{
 "cells": [
  {
   "cell_type": "markdown",
   "metadata": {},
   "source": [
    "### ESERCIZIO 8 - Verifica di triangolo rettangolo\n",
    "\n",
    "Dati tre valori (interi o decimali) verificare se possono essere le misure dei lati di un triangolo rettangolo."
   ]
  },
  {
   "cell_type": "markdown",
   "metadata": {},
   "source": [
    "### Soluzione\n",
    "\n",
    "Alle variabili `a`, `b` e `c` vengono assegnati tre valori (interi o decimali)"
   ]
  },
  {
   "cell_type": "code",
   "execution_count": 2,
   "metadata": {},
   "outputs": [],
   "source": [
    "a = 3\n",
    "b = 5\n",
    "c = 4"
   ]
  },
  {
   "cell_type": "markdown",
   "metadata": {},
   "source": [
    "### Soluzione 1\n",
    "Si determina prima quale dei tre valori è candidato a essere la misura dell'ipotenusa e poi si verifica il teorema di Pitagora.\n",
    "\n",
    "Viene selezionato tra i tre valori quello massimo che è candidato a essere la misura dell'ipotenusa. Tale valore viene assegnato alla variabile `ipotenusa`. Gli altri due valori sono candidati a essere le misure dei due cateti, e vengono assegnati alle variabili `cateto1` e `cateto2`"
   ]
  },
  {
   "cell_type": "code",
   "execution_count": 3,
   "metadata": {},
   "outputs": [],
   "source": [
    "if a > b:\n",
    "    cateto1 = b\n",
    "    if a > c:\n",
    "        cateto2 = c\n",
    "        ipotenusa = a\n",
    "    else:\n",
    "        cateto2 = a\n",
    "        ipotenusa = c\n",
    "else:\n",
    "    cateto1 = a\n",
    "    if b > c:\n",
    "        cateto2 = c\n",
    "        ipotenusa = b\n",
    "    else:\n",
    "        cateto2 = b\n",
    "        ipotenusa = c"
   ]
  },
  {
   "cell_type": "markdown",
   "metadata": {},
   "source": [
    "La variabile `ipotenusa` contiene il valore (tra i tre) candidato a essere la misura dell'ipotenusa "
   ]
  },
  {
   "cell_type": "code",
   "execution_count": 3,
   "metadata": {},
   "outputs": [
    {
     "data": {
      "text/plain": [
       "5"
      ]
     },
     "execution_count": 3,
     "metadata": {},
     "output_type": "execute_result"
    }
   ],
   "source": [
    "ipotenusa"
   ]
  },
  {
   "cell_type": "markdown",
   "metadata": {},
   "source": [
    "I cateti dovranno misurare quindi"
   ]
  },
  {
   "cell_type": "code",
   "execution_count": 4,
   "metadata": {},
   "outputs": [
    {
     "data": {
      "text/plain": [
       "3"
      ]
     },
     "execution_count": 4,
     "metadata": {},
     "output_type": "execute_result"
    }
   ],
   "source": [
    "cateto1"
   ]
  },
  {
   "cell_type": "code",
   "execution_count": 5,
   "metadata": {},
   "outputs": [
    {
     "data": {
      "text/plain": [
       "4"
      ]
     },
     "execution_count": 5,
     "metadata": {},
     "output_type": "execute_result"
    }
   ],
   "source": [
    "cateto2"
   ]
  },
  {
   "cell_type": "markdown",
   "metadata": {},
   "source": [
    "A questo punto può essere verificato il teorema di Pitagora "
   ]
  },
  {
   "cell_type": "code",
   "execution_count": 6,
   "metadata": {},
   "outputs": [
    {
     "data": {
      "text/plain": [
       "True"
      ]
     },
     "execution_count": 6,
     "metadata": {},
     "output_type": "execute_result"
    }
   ],
   "source": [
    "ipotenusa**2 == cateto1**2 + cateto2**2"
   ]
  },
  {
   "cell_type": "markdown",
   "metadata": {},
   "source": [
    "### Soluzione 2 (con `elif`)\n",
    "Si verifica il teorema di Pitagora per ognuna delle tre configurazioni possibili:\n",
    "\n",
    "- `a` è il valore dell'ipotenusa, mentre `b` e `c` sono le misure dei cateti\n",
    "- `b` è il valore dell'ipotenusa, mentre `a` e `c` sono le misure dei cateti\n",
    "- `c` è il valore dell'ipotenusa, mentre `a` e `b` sono le misure dei cateti"
   ]
  },
  {
   "cell_type": "code",
   "execution_count": 9,
   "metadata": {},
   "outputs": [],
   "source": [
    "if a**2 == b**2 + c**2:\n",
    "    triangolo_rettangolo = True\n",
    "elif b**2 == a**2 + c**2:\n",
    "    triangolo_rettangolo = True\n",
    "elif c**2 == a**2 + b**2:\n",
    "    triangolo_rettangolo = True\n",
    "else:\n",
    "    triangolo_rettangolo = False"
   ]
  },
  {
   "cell_type": "markdown",
   "metadata": {},
   "source": [
    "Il valore della variabile booleana `triangolo_rettangolo` indica se i tre valori sono le misure di un triangolo rettangolo"
   ]
  },
  {
   "cell_type": "code",
   "execution_count": 10,
   "metadata": {},
   "outputs": [
    {
     "data": {
      "text/plain": [
       "True"
      ]
     },
     "execution_count": 10,
     "metadata": {},
     "output_type": "execute_result"
    }
   ],
   "source": [
    "triangolo_rettangolo"
   ]
  }
 ],
 "metadata": {
  "kernelspec": {
   "display_name": "Python 3",
   "language": "python",
   "name": "python3"
  },
  "language_info": {
   "codemirror_mode": {
    "name": "ipython",
    "version": 3
   },
   "file_extension": ".py",
   "mimetype": "text/x-python",
   "name": "python",
   "nbconvert_exporter": "python",
   "pygments_lexer": "ipython3",
   "version": "3.7.1"
  }
 },
 "nbformat": 4,
 "nbformat_minor": 2
}
