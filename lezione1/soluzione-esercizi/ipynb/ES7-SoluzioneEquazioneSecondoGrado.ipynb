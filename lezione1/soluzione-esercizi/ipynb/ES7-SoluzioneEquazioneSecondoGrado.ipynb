{
 "cells": [
  {
   "cell_type": "markdown",
   "metadata": {},
   "source": [
    "### ESERCIZIO 7 - Soluzioni di un'equazione di secondo grado\n",
    "\n",
    "Dati i tre coefficienti $a$, $b$ e $c$ di un'equazione di secondo grado, calcolare le sue soluzioni (reali o immaginarie).\n",
    "\n",
    "Le soluzioni di un'equazione di secondo grado $ax^2+bx+c = 0$ sono:\n",
    "\n",
    "$x_{1} = \\frac{-b-\\sqrt{\\Delta}}{2a}$\n",
    "\n",
    "$x_{2} = \\frac{-b+\\sqrt{\\Delta}}{2a}$\n",
    "\n",
    "se $\\Delta = b^2 - 4ac \\geq 0$ (soluzioni reali), altrimenti\n",
    "\n",
    "$x_{1} = \\frac{-b}{2a} + i \\frac{\\sqrt{-\\Delta}}{2a}$\n",
    "\n",
    "$x_{2} = \\frac{-b}{2a} - i \\frac{\\sqrt{-\\Delta}}{2a}$\n",
    "\n",
    "se $\\Delta = b^2 - 4ac < 0$ (soluzioni immaginarie)\n",
    "\n",
    "Nel primo caso (soluzioni reali) calcolare le due soluzioni $x_1$ e $x_2$ mentre nel secondo caso (soluzioni immaginarie) calcolare la parte reale $\\frac{-b}{2a}$ e la parte immaginaria $\\frac{\\sqrt{-\\Delta}}{2a}$"
   ]
  },
  {
   "cell_type": "markdown",
   "metadata": {},
   "source": [
    "Alle variabili `a`, `b` e `c` vengono assegnati i valori dei tre coefficienti $a$, $b$ e $c$ dell'equazione di secondo grado"
   ]
  },
  {
   "cell_type": "code",
   "execution_count": 1,
   "metadata": {},
   "outputs": [],
   "source": [
    "a = 10\n",
    "b = 10\n",
    "c = 25"
   ]
  },
  {
   "cell_type": "markdown",
   "metadata": {},
   "source": [
    "Il valore del discriminante $\\Delta = b^2 - 4ac$ viene calcolato e assegnato alla variabile `delta`"
   ]
  },
  {
   "cell_type": "code",
   "execution_count": 2,
   "metadata": {},
   "outputs": [],
   "source": [
    "delta = b ** 2 - 4 * a * c"
   ]
  },
  {
   "cell_type": "code",
   "execution_count": 3,
   "metadata": {},
   "outputs": [
    {
     "data": {
      "text/plain": [
       "-900"
      ]
     },
     "execution_count": 3,
     "metadata": {},
     "output_type": "execute_result"
    }
   ],
   "source": [
    "delta"
   ]
  },
  {
   "cell_type": "markdown",
   "metadata": {},
   "source": [
    "Se il valore del discriminante non è negativo, allora le soluzioni sono reali, altrimenti sono immaginarie.\n",
    "\n",
    "In entrambi i casi si calcola la radice quadrata del valore assoluto del discriminante il cui valore viene assegnato alla variabile `radice_delta`.\n",
    "\n",
    "Nel primo caso vengono calcolate le due soluzioni reali i cui valori vengono assegnati alle variabili `x1` e `x2`.\n",
    "\n",
    "Nel secondo caso vengono calcolate la parte reale $\\frac{-b}{2a}$ e la parte immaginaria $\\frac{\\sqrt{-\\Delta}}{2a}$ i cui valori vengono assegnati alle variabili `parte_reale` e `parte_immaginaria`.\n",
    "\n",
    "Le quattro variabili `x1`, `x2`, `parte_reale` e `parte_immaginaria` vengono inizializzate alla stringa nulla in modo da capire, in base ai valori assunti alla fine, se le soluzioni sono reali oppure immaginarie"
   ]
  },
  {
   "cell_type": "code",
   "execution_count": 4,
   "metadata": {},
   "outputs": [],
   "source": [
    "x1 = \"\"\n",
    "x2 = \"\"\n",
    "parte_reale = \"\"\n",
    "parte_immaginaria = \"\""
   ]
  },
  {
   "cell_type": "code",
   "execution_count": 5,
   "metadata": {},
   "outputs": [],
   "source": [
    "if delta >= 0:\n",
    "    radice_delta = delta**0.5\n",
    "    x1 = -(b - radice_delta) / (2 * a)\n",
    "    x2 = -(b + radice_delta) / (2 * a)\n",
    "else:\n",
    "    radice_delta = (-delta)**0.5\n",
    "    parte_reale = -b / (2 * a)\n",
    "    parte_immaginaria = radice_delta / (2 * a)"
   ]
  },
  {
   "cell_type": "markdown",
   "metadata": {},
   "source": [
    "Valori delle variabili `x1`, `x2`, `parte_reale` e `parte immaginaria`"
   ]
  },
  {
   "cell_type": "code",
   "execution_count": 6,
   "metadata": {},
   "outputs": [
    {
     "data": {
      "text/plain": [
       "''"
      ]
     },
     "execution_count": 6,
     "metadata": {},
     "output_type": "execute_result"
    }
   ],
   "source": [
    "x1"
   ]
  },
  {
   "cell_type": "code",
   "execution_count": 7,
   "metadata": {},
   "outputs": [
    {
     "data": {
      "text/plain": [
       "''"
      ]
     },
     "execution_count": 7,
     "metadata": {},
     "output_type": "execute_result"
    }
   ],
   "source": [
    "x2"
   ]
  },
  {
   "cell_type": "code",
   "execution_count": 8,
   "metadata": {},
   "outputs": [
    {
     "data": {
      "text/plain": [
       "-0.5"
      ]
     },
     "execution_count": 8,
     "metadata": {},
     "output_type": "execute_result"
    }
   ],
   "source": [
    "parte_reale"
   ]
  },
  {
   "cell_type": "code",
   "execution_count": 9,
   "metadata": {},
   "outputs": [
    {
     "data": {
      "text/plain": [
       "1.5"
      ]
     },
     "execution_count": 9,
     "metadata": {},
     "output_type": "execute_result"
    }
   ],
   "source": [
    "parte_immaginaria"
   ]
  }
 ],
 "metadata": {
  "kernelspec": {
   "display_name": "Python 3",
   "language": "python",
   "name": "python3"
  },
  "language_info": {
   "codemirror_mode": {
    "name": "ipython",
    "version": 3
   },
   "file_extension": ".py",
   "mimetype": "text/x-python",
   "name": "python",
   "nbconvert_exporter": "python",
   "pygments_lexer": "ipython3",
   "version": "3.7.1"
  }
 },
 "nbformat": 4,
 "nbformat_minor": 2
}
