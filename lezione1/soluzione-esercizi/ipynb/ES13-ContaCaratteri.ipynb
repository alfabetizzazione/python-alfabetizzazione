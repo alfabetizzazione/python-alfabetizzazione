{
 "cells": [
  {
   "cell_type": "markdown",
   "metadata": {},
   "source": [
    "### ESERCIZIO 13 - Istogramma dei caratteri di un stringa\n",
    "\n",
    "Data una stringa calcolare il numero delle occorrenze di ogni suo carattere"
   ]
  },
  {
   "cell_type": "markdown",
   "metadata": {},
   "source": [
    "Alla variabile `stringa` viene assegnata la stringa **ababcdbccdddd** che contiene 2 a, 3 b, 3 c e 5 d"
   ]
  },
  {
   "cell_type": "code",
   "execution_count": 3,
   "metadata": {},
   "outputs": [],
   "source": [
    "stringa = 'ababcdbccdddd'"
   ]
  },
  {
   "cell_type": "markdown",
   "metadata": {},
   "source": [
    "Alla variable `conta_diz` viene assegnato un dizionario vuoto (che verrà poi riempito con i conteggi dei caratteri). Le chiavi saranno i singoli caratteri e i valori saranno i conteggi dei singoli caratteri"
   ]
  },
  {
   "cell_type": "code",
   "execution_count": 7,
   "metadata": {},
   "outputs": [],
   "source": [
    "conta_diz = {}"
   ]
  },
  {
   "cell_type": "markdown",
   "metadata": {},
   "source": [
    "La stringa viene attraversata e per ognuno dei suoi caratteri viene controllata la presenza nel dizionario.\n",
    "\n",
    "Se il carattere è già presente, significa che è già stato incontrato durante l'attraversamento della stringa e quindi esiste una chiave uguale a quel carattere a cui corrisponde (come valore) il numero di volte in cui il carattere è stato incontrato fino a quel momento. In tale caso, tale valore viene incrementato di 1.\n",
    "\n",
    "Se il carattere invece non è ancora presente, significa che non è ancora stato incontrato durante l'attraversamento della stringa e quindi non esiste una chiave uguale a quel carattere. In tale caso, si aggiunge il carattere come chiave a cui si fa corrispondere un valore pari a 1."
   ]
  },
  {
   "cell_type": "code",
   "execution_count": 8,
   "metadata": {},
   "outputs": [],
   "source": [
    "for carattere in stringa:\n",
    "    if carattere in conta_diz:\n",
    "        conta_diz[carattere] = conta_diz[carattere] + 1\n",
    "    else:\n",
    "        conta_diz[carattere] = 1"
   ]
  },
  {
   "cell_type": "code",
   "execution_count": 9,
   "metadata": {},
   "outputs": [
    {
     "data": {
      "text/plain": [
       "{'a': 2, 'b': 3, 'c': 3, 'd': 5}"
      ]
     },
     "execution_count": 9,
     "metadata": {},
     "output_type": "execute_result"
    }
   ],
   "source": [
    "conta_diz"
   ]
  },
  {
   "cell_type": "code",
   "execution_count": null,
   "metadata": {},
   "outputs": [],
   "source": []
  }
 ],
 "metadata": {
  "kernelspec": {
   "display_name": "Python 3",
   "language": "python",
   "name": "python3"
  },
  "language_info": {
   "codemirror_mode": {
    "name": "ipython",
    "version": 3
   },
   "file_extension": ".py",
   "mimetype": "text/x-python",
   "name": "python",
   "nbconvert_exporter": "python",
   "pygments_lexer": "ipython3",
   "version": "3.7.1"
  }
 },
 "nbformat": 4,
 "nbformat_minor": 2
}
