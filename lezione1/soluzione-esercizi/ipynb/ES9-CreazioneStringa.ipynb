{
 "cells": [
  {
   "cell_type": "markdown",
   "metadata": {},
   "source": [
    "### ESERCIZIO 9 - Creazione e accesso a una stringa\n",
    "\n",
    "Creare la stringa **Hello world!** e produrre il numero dei suoi caratteri. Accedere al primo e all'ultimo carattere (in maniera separata) e accedere poi alla sottostringa che va dal terzo al settimo carattere, cioé **llo w** (che contiene un carattere di spazio).\n",
    "\n",
    "Verificare poi:\n",
    "- se l'ottavo carattere della stringa coincide con **r**\n",
    "- se il carattere **r** è presente nella stringa\n",
    "- se due caratteri a scelta sono presenti contemporaneamente nella stringa \n",
    "- se almeno uno tra due caratteri a scelta è presente nella stringa"
   ]
  },
  {
   "cell_type": "markdown",
   "metadata": {},
   "source": [
    "### Soluzione\n",
    "\n",
    "Alla variabile `saluto` viene assegnato il valore **Hello world!** usando (ad esempio) la sintassi con singoli apici"
   ]
  },
  {
   "cell_type": "code",
   "execution_count": 2,
   "metadata": {},
   "outputs": [],
   "source": [
    "saluto = 'Hello world!'"
   ]
  },
  {
   "cell_type": "markdown",
   "metadata": {},
   "source": [
    "La dimensione della stringa viene ottenuta chiamando la funzione `len()` e passando come argomento la variabile `saluto` che contiene la stringa. Il valore restituito dalla funzione viene assegnato alla variabile `lunghezza`"
   ]
  },
  {
   "cell_type": "code",
   "execution_count": 3,
   "metadata": {},
   "outputs": [],
   "source": [
    "lunghezza = len(saluto)"
   ]
  },
  {
   "cell_type": "code",
   "execution_count": 4,
   "metadata": {},
   "outputs": [
    {
     "data": {
      "text/plain": [
       "12"
      ]
     },
     "execution_count": 4,
     "metadata": {},
     "output_type": "execute_result"
    }
   ],
   "source": [
    "lunghezza"
   ]
  },
  {
   "cell_type": "markdown",
   "metadata": {},
   "source": [
    "Il primo carattere della stringa è quello nella posizione di indice (positivo) 0"
   ]
  },
  {
   "cell_type": "code",
   "execution_count": 5,
   "metadata": {},
   "outputs": [
    {
     "data": {
      "text/plain": [
       "'H'"
      ]
     },
     "execution_count": 5,
     "metadata": {},
     "output_type": "execute_result"
    }
   ],
   "source": [
    "saluto[0]"
   ]
  },
  {
   "cell_type": "markdown",
   "metadata": {},
   "source": [
    "L'ultimo carattere della stringa è quello nella posizione di indice (positivo) `lunghezza-1`"
   ]
  },
  {
   "cell_type": "code",
   "execution_count": 6,
   "metadata": {},
   "outputs": [
    {
     "data": {
      "text/plain": [
       "'!'"
      ]
     },
     "execution_count": 6,
     "metadata": {},
     "output_type": "execute_result"
    }
   ],
   "source": [
    "saluto[lunghezza-1]"
   ]
  },
  {
   "cell_type": "markdown",
   "metadata": {},
   "source": [
    "In alternativa, si può accedere al primo carattere della stringa tramite l'indice negativo pari a `-lunghezza`"
   ]
  },
  {
   "cell_type": "code",
   "execution_count": 7,
   "metadata": {},
   "outputs": [
    {
     "data": {
      "text/plain": [
       "'H'"
      ]
     },
     "execution_count": 7,
     "metadata": {},
     "output_type": "execute_result"
    }
   ],
   "source": [
    "saluto[-lunghezza]"
   ]
  },
  {
   "cell_type": "markdown",
   "metadata": {},
   "source": [
    "...e si può accedere all'ultimo carattere della stringa tramite l'indice negativo pari a -1"
   ]
  },
  {
   "cell_type": "code",
   "execution_count": 8,
   "metadata": {},
   "outputs": [
    {
     "data": {
      "text/plain": [
       "'!'"
      ]
     },
     "execution_count": 8,
     "metadata": {},
     "output_type": "execute_result"
    }
   ],
   "source": [
    "saluto[-1]"
   ]
  },
  {
   "cell_type": "markdown",
   "metadata": {},
   "source": [
    "Per accedere alla sottostringa che va dal terzo al settimo carattere basta utilizzare la sintassi di *slicing* specificando all'interno delle parentesi quadre [] l'indice del terzo carattere (cioé 2) e l'indice del carattere successivo al settimo (cioé l'ottavo a cui corrisponde l'indice positivo 7) separati dal simbolo `:`"
   ]
  },
  {
   "cell_type": "code",
   "execution_count": 9,
   "metadata": {},
   "outputs": [
    {
     "data": {
      "text/plain": [
       "'llo w'"
      ]
     },
     "execution_count": 9,
     "metadata": {},
     "output_type": "execute_result"
    }
   ],
   "source": [
    "saluto[2:7]"
   ]
  },
  {
   "cell_type": "markdown",
   "metadata": {},
   "source": [
    "Per verificare se l'ottavo carattere della stringa è uguale a **r** basta usare l'operatore `==` con a destra il carattere da confrontare e a sinistra la sintassi di accesso all'ottavo carattere di `saluto`. Il risultato della valutazione è un valore booleano (`True` o `False`)"
   ]
  },
  {
   "cell_type": "code",
   "execution_count": 26,
   "metadata": {},
   "outputs": [
    {
     "data": {
      "text/plain": [
       "False"
      ]
     },
     "execution_count": 26,
     "metadata": {},
     "output_type": "execute_result"
    }
   ],
   "source": [
    "saluto[7] == 'r'"
   ]
  },
  {
   "cell_type": "markdown",
   "metadata": {},
   "source": [
    "Per verificare la presenza di un carattere all'interno della stringa basta usare l'operatore `in` con a sinistra il carattere di cui verificare la presenza e a destra la variabile `saluto` che contiene la stringa. Il risultato della valutazione è un valore booleano (`True` o `False`)"
   ]
  },
  {
   "cell_type": "code",
   "execution_count": 28,
   "metadata": {},
   "outputs": [
    {
     "data": {
      "text/plain": [
       "True"
      ]
     },
     "execution_count": 28,
     "metadata": {},
     "output_type": "execute_result"
    }
   ],
   "source": [
    "'r' in saluto"
   ]
  },
  {
   "cell_type": "markdown",
   "metadata": {},
   "source": [
    "Attenzione al fatto che Pyhton è *case sensitive*"
   ]
  },
  {
   "cell_type": "code",
   "execution_count": 27,
   "metadata": {},
   "outputs": [
    {
     "data": {
      "text/plain": [
       "False"
      ]
     },
     "execution_count": 27,
     "metadata": {},
     "output_type": "execute_result"
    }
   ],
   "source": [
    "'R' in saluto"
   ]
  },
  {
   "cell_type": "markdown",
   "metadata": {},
   "source": [
    "Per verificare la presenza contemporanea di due caratteri basta usare l'operatore di congiunzione logica `and`"
   ]
  },
  {
   "cell_type": "code",
   "execution_count": 25,
   "metadata": {},
   "outputs": [
    {
     "data": {
      "text/plain": [
       "True"
      ]
     },
     "execution_count": 25,
     "metadata": {},
     "output_type": "execute_result"
    }
   ],
   "source": [
    "'H' in saluto and 'w' in saluto"
   ]
  },
  {
   "cell_type": "markdown",
   "metadata": {},
   "source": [
    "Per verificare la presenza di almeno uno tra due caratteri basta usare l'operatore di disgiunzione logica `or`"
   ]
  },
  {
   "cell_type": "code",
   "execution_count": 21,
   "metadata": {},
   "outputs": [
    {
     "data": {
      "text/plain": [
       "True"
      ]
     },
     "execution_count": 21,
     "metadata": {},
     "output_type": "execute_result"
    }
   ],
   "source": [
    "'H' in saluto or 'W' in saluto"
   ]
  }
 ],
 "metadata": {
  "kernelspec": {
   "display_name": "Python 3",
   "language": "python",
   "name": "python3"
  },
  "language_info": {
   "codemirror_mode": {
    "name": "ipython",
    "version": 3
   },
   "file_extension": ".py",
   "mimetype": "text/x-python",
   "name": "python",
   "nbconvert_exporter": "python",
   "pygments_lexer": "ipython3",
   "version": "3.7.1"
  }
 },
 "nbformat": 4,
 "nbformat_minor": 2
}
