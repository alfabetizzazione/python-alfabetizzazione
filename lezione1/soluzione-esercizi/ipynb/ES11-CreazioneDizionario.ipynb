{
 "cells": [
  {
   "cell_type": "markdown",
   "metadata": {},
   "source": [
    "### ESERCIZIO 11 - Creazione, accesso e aggiornamento di un dizionario\n",
    "\n",
    "Creare un dizionario per memorizzare le età dei 4 componenti della famiglia Rossi, dove le chiavi sono i nomi dei componenti e i valori sono le età. Precisamente la famiglia Rossi è composta da:\n",
    "\n",
    "- Silvia che ha 45 anni\n",
    "- Roberto che ha 47 anni\n",
    "- Arianna che ha 18 anni\n",
    "- Tommaso che ha 13 anni\n",
    "\n",
    "Viene in seguito richiesto di:\n",
    "\n",
    "- produrre la dimensione del dizionario\n",
    "- produrre l'età di Arianna e aggiornarla poi a 19 anni\n",
    "- aggiungere al dizionario l'età di Aurora che ha un anno\n",
    "- verificare infine la presenza nel dizionario di Roberto"
   ]
  },
  {
   "cell_type": "markdown",
   "metadata": {},
   "source": [
    "### Soluzione\n",
    "\n",
    "I nomi dei componenti sono le chiavi del dizionario e le età sono i valori, cioè gli elementi da memorizzare nel dizionario, a cui si vuole accedere tramite il nome del componente.\n",
    "\n",
    "Le chiavi (nomi) sono stringhe e i valori (età) sono numeri interi."
   ]
  },
  {
   "cell_type": "markdown",
   "metadata": {},
   "source": [
    "Alla variabile `diz` vengono assegnate le 4 coppie chiave-valore (nome-età) utilizzando la sintassi con parentesi graffe `{}`"
   ]
  },
  {
   "cell_type": "code",
   "execution_count": 2,
   "metadata": {},
   "outputs": [],
   "source": [
    "diz = {'Silvia' : 45, 'Roberto': 47, 'Arianna' : 18, 'Tommaso' : 13}"
   ]
  },
  {
   "cell_type": "markdown",
   "metadata": {},
   "source": [
    "La dimensione del dizionario) viene ottenuta chiamando la funzione `len()` e passando come argomento la variabile `diz` che contiene il dizionario. Il valore restituito dalla funzione viene assegnato alla variabile `dimensione`"
   ]
  },
  {
   "cell_type": "code",
   "execution_count": 3,
   "metadata": {},
   "outputs": [],
   "source": [
    "dimensione = len(diz)"
   ]
  },
  {
   "cell_type": "code",
   "execution_count": 4,
   "metadata": {},
   "outputs": [
    {
     "data": {
      "text/plain": [
       "4"
      ]
     },
     "execution_count": 4,
     "metadata": {},
     "output_type": "execute_result"
    }
   ],
   "source": [
    "dimensione"
   ]
  },
  {
   "cell_type": "markdown",
   "metadata": {},
   "source": [
    "L'età di Arianna è il valore nel dizionario associato alla stringa **Arianna** come chiave"
   ]
  },
  {
   "cell_type": "code",
   "execution_count": 5,
   "metadata": {},
   "outputs": [
    {
     "data": {
      "text/plain": [
       "18"
      ]
     },
     "execution_count": 5,
     "metadata": {},
     "output_type": "execute_result"
    }
   ],
   "source": [
    "diz['Arianna']"
   ]
  },
  {
   "cell_type": "markdown",
   "metadata": {},
   "source": [
    "Con la stessa sintassi di accesso a un dizionario l'età di Arianna può essere aggiornata a 19 anni"
   ]
  },
  {
   "cell_type": "code",
   "execution_count": 6,
   "metadata": {},
   "outputs": [],
   "source": [
    "diz['Arianna'] = 19"
   ]
  },
  {
   "cell_type": "markdown",
   "metadata": {},
   "source": [
    "La nuova età di Arianna è ora"
   ]
  },
  {
   "cell_type": "code",
   "execution_count": 7,
   "metadata": {},
   "outputs": [
    {
     "data": {
      "text/plain": [
       "19"
      ]
     },
     "execution_count": 7,
     "metadata": {},
     "output_type": "execute_result"
    }
   ],
   "source": [
    "diz['Arianna']"
   ]
  },
  {
   "cell_type": "markdown",
   "metadata": {},
   "source": [
    "A questo punto si può aggiungere anche l'età di Aurora che non è ancora presente nel dizionario"
   ]
  },
  {
   "cell_type": "code",
   "execution_count": 8,
   "metadata": {},
   "outputs": [],
   "source": [
    "diz['Aurora'] = 1"
   ]
  },
  {
   "cell_type": "markdown",
   "metadata": {},
   "source": [
    "Il contenuto del dizionario è ora"
   ]
  },
  {
   "cell_type": "code",
   "execution_count": 9,
   "metadata": {},
   "outputs": [
    {
     "data": {
      "text/plain": [
       "{'Silvia': 45, 'Roberto': 47, 'Arianna': 19, 'Tommaso': 13, 'Aurora': 1}"
      ]
     },
     "execution_count": 9,
     "metadata": {},
     "output_type": "execute_result"
    }
   ],
   "source": [
    "diz"
   ]
  },
  {
   "cell_type": "markdown",
   "metadata": {},
   "source": [
    "Per verificare la presenza di una chiave all'interno del dizionario basta usare l'operatore `in` con a sinistra la chiave di cui testare la presenza e a destra la variabile `diz` che contiene il dizionario. Il risultato della valutazione è un valore booleano (`True` o `False`)"
   ]
  },
  {
   "cell_type": "code",
   "execution_count": 10,
   "metadata": {},
   "outputs": [
    {
     "data": {
      "text/plain": [
       "True"
      ]
     },
     "execution_count": 10,
     "metadata": {},
     "output_type": "execute_result"
    }
   ],
   "source": [
    "'Roberto' in diz"
   ]
  },
  {
   "cell_type": "code",
   "execution_count": null,
   "metadata": {},
   "outputs": [],
   "source": []
  }
 ],
 "metadata": {
  "kernelspec": {
   "display_name": "Python 3",
   "language": "python",
   "name": "python3"
  },
  "language_info": {
   "codemirror_mode": {
    "name": "ipython",
    "version": 3
   },
   "file_extension": ".py",
   "mimetype": "text/x-python",
   "name": "python",
   "nbconvert_exporter": "python",
   "pygments_lexer": "ipython3",
   "version": "3.7.1"
  }
 },
 "nbformat": 4,
 "nbformat_minor": 2
}
