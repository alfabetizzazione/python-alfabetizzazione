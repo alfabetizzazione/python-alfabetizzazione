{
 "cells": [
  {
   "cell_type": "markdown",
   "metadata": {},
   "source": [
    "# ESERCIZIO RIEPILOGATIVO\n",
    "## Testo:\n",
    "\n",
    "In input si riceve una lista di 5 carte, dove ogni carta è indicate con una stringa di 2 caratteri, valore-seme. Ad esempio 8P è 8 di picche, JC il jack di cuori e 0Q il 10 di quadri. Le carte nella lista sono in ordine crescente di valore e la lista non contiene carte ripetute.\n",
    "\n",
    "Dalla lista, determinare quale combinazione di poker corrisponde alla lista, secondo i seguenti criteri:\n",
    "\n",
    "- scala reale: i valori di tutte le carte sono consecutivi (ad esempio 9, 10, J, Q, K) e tutti dello stesso seme. Esempio: [\"2Q\", \"3Q\", \"4Q\", \"5Q\", \"6Q\"]\n",
    "- poker: quattro carte con lo stesso valore. Esempio: [\"2Q\", \"5Q\", \"5C\", \"5P\", \"5F\"]\n",
    "- full: tre carte con lo stesso valore e altre 2 carte con lo stesso valore. Esempio: [\"5Q\", \"5C\", \"5P\", \"1Q\", \"1F\"]\n",
    "- colore: cinque carte con lo stesso seme. Esempio: [\"4Q\", \"5Q\", \"0Q\", \"KQ\", \"1Q\" ]\n",
    "- scala: i valori di tutte le carte sono consecutivi. Esempio: [\"0Q\", \"JQ\", \"QC\", \"KF\", \"1Q\"]\n",
    "- tris: tre carte con lo stesso valore. Esempio: [\"5Q\", \"5C\", \"5P\", \"0F\", \"1Q\"]\n",
    "- doppia coppia: due coppie di carte con lo stesso valore. Esempio: [\"5Q\", \"5C\", \"KF\", \"1Q\", \"1P\"]\n",
    "- coppia: due carte con lo stesso valore. Esempio: [\"5C\", \"5P\", \"7F\", \"0Q\", \"1Q\"]\n",
    "- carta singola: nessuna delle combinazioni precedenti. Esempio: [\"2Q\", \"4C\", \"6Q\", \"7P\", \"9F\"]\n",
    "\n",
    "Nel caso in cui la lista di carte soddisfa più di un caso (ad esempio, se realizza doppia coppia, allora realizza anche coppia), bisogna restituire la prima combinazione dell’elenco. Nel caso [\"5Q\", \"5C\", \"1Q\", \"1P\", \"KF\"], bisogna restituire doppia coppia"
   ]
  },
  {
   "cell_type": "markdown",
   "metadata": {},
   "source": [
    "Chiediamo all'utente di passarci la lista di carte che ha come mano."
   ]
  },
  {
   "cell_type": "code",
   "execution_count": 51,
   "metadata": {},
   "outputs": [],
   "source": [
    "mano =  [\"0Q\", \"0C\", \"QQ\", \"KP\", \"1F\"]"
   ]
  },
  {
   "cell_type": "markdown",
   "metadata": {},
   "source": [
    "Ora dobbiamo capire quale combinazione di carte ha in mano il giocatore; per farlo dobbiamo prima di tutto estrarre dalle stringhe delle carte le informazioni sul valore e sul seme. \n",
    "Per estrarre il valore possiamo quindi creare un dizionario che associ ad ogni primo carattere delle stringa il valore corrispondente."
   ]
  },
  {
   "cell_type": "code",
   "execution_count": 52,
   "metadata": {},
   "outputs": [
    {
     "data": {
      "text/plain": [
       "[10, 10, 12, 13, 1]"
      ]
     },
     "execution_count": 52,
     "metadata": {},
     "output_type": "execute_result"
    }
   ],
   "source": [
    "#Dizionario valori carte\n",
    "ValoriCarte = {'1': 1, \n",
    "            '2': 2, \n",
    "            '3': 3, \n",
    "            '4': 4, \n",
    "            '5': 5, \n",
    "            '6': 6, \n",
    "            '7': 7, \n",
    "            '8': 8, \n",
    "            '9': 9, \n",
    "            '0': 10, \n",
    "            'J': 11, \n",
    "            'Q': 12, \n",
    "            'K': 13, \n",
    "           }\n",
    "valoriMano = [] #Inizializzo lista vuota\n",
    "for carta in mano:\n",
    "    valoriMano.append(ValoriCarte[carta[0]]) #aggiungo il valore della carta, uno alla volta\n",
    "\n",
    "valoriMano"
   ]
  },
  {
   "cell_type": "markdown",
   "metadata": {},
   "source": [
    "Poi facciamo una cosa molto simile per estrarre l'informazione del seme; in questo caso non ci servirà nessun dizionario."
   ]
  },
  {
   "cell_type": "code",
   "execution_count": 53,
   "metadata": {},
   "outputs": [
    {
     "data": {
      "text/plain": [
       "['Q', 'C', 'Q', 'P', 'F']"
      ]
     },
     "execution_count": 53,
     "metadata": {},
     "output_type": "execute_result"
    }
   ],
   "source": [
    "semiMano = [] \n",
    "for carta in mano:\n",
    "    semiMano.append(carta[1]) #aggiungo il seme della carta (è il secondo carattere della stringa carta)\n",
    "semiMano"
   ]
  },
  {
   "cell_type": "markdown",
   "metadata": {},
   "source": [
    "Ora che abbiamo le informazioni possiamo procedere nel determinare la mano del giocatore, esaminando le varie opzioni. Prima di tutto determiniamo se i valori sono o meno continui, questa informazione ci permetterà di verificare le opzioni \"Scala reale\" e \"scala\""
   ]
  },
  {
   "cell_type": "code",
   "execution_count": 54,
   "metadata": {},
   "outputs": [
    {
     "data": {
      "text/plain": [
       "False"
      ]
     },
     "execution_count": 54,
     "metadata": {},
     "output_type": "execute_result"
    }
   ],
   "source": [
    "if (valoriMano[0] != (valoriMano[1] - 1) or valoriMano[1] != (valoriMano[2] - 1) or valoriMano[2] != (valoriMano[3] - 1) or valoriMano[3] != (valoriMano[4] - 1)) and valoriMano != [1,10,11,12,13] and valoriMano != [10,11,12,13,1]:\n",
    "    consecutivi = False\n",
    "else:\n",
    "    consecutivi = True\n",
    "consecutivi"
   ]
  },
  {
   "cell_type": "markdown",
   "metadata": {},
   "source": [
    "Ora che abbiamo verificato se i valori sono o meno in scala possiamo determinare quanti gruppi di valori ci sono. Questo ci permetterà di valutare le seguenti combinazioni: Poker (un gruppo da 4), Full(un gruppo da 3 e uno da 2), Tris(solo un gruppo da 3 carte), DoppiaCoppia(due gruppi da 2 carte), Coppia(un solo gruppo da 2) o cartaSingola(gruppi da 1)\n",
    "Un modo per farlo è contare le occorrenze di ogni valore:"
   ]
  },
  {
   "cell_type": "code",
   "execution_count": 55,
   "metadata": {},
   "outputs": [
    {
     "data": {
      "text/plain": [
       "[1, 0, 0, 0, 0, 0, 0, 0, 0, 2, 0, 1, 1]"
      ]
     },
     "execution_count": 55,
     "metadata": {},
     "output_type": "execute_result"
    }
   ],
   "source": [
    "gruppi = [0,0,0,0,0,0,0,0,0,0,0,0,0] #inizializziamo una lista contente tanti 0 quanti possibili valori (da 1 a 13)\n",
    "for valore in valoriMano:\n",
    "    gruppi[valore - 1] += 1 #il valore avrà una posizione specifica all'interno della lista creata e si incrementerà il contatore corrispondente\n",
    "\n",
    "gruppi"
   ]
  },
  {
   "cell_type": "markdown",
   "metadata": {},
   "source": [
    "Dopo di che estraiamo dalla lista calcolata il gruppo con più carte e quello con meno, saranno le uniche informazioni che ci serviranno dopo."
   ]
  },
  {
   "cell_type": "code",
   "execution_count": 61,
   "metadata": {},
   "outputs": [
    {
     "data": {
      "text/plain": [
       "[2, 2]"
      ]
     },
     "execution_count": 61,
     "metadata": {},
     "output_type": "execute_result"
    }
   ],
   "source": [
    "massimo = max(gruppi)\n",
    "minimo = massimo\n",
    "for conta in gruppi:\n",
    "    if conta > 0 and conta < minimo:\n",
    "        conta = minimo\n",
    "        \n",
    "[minimo, massimo]"
   ]
  },
  {
   "cell_type": "markdown",
   "metadata": {},
   "source": [
    "Per valutare i casi \"scala reale\" o \"colore\" occorre verificare che le carte abbiano lo stesso seme."
   ]
  },
  {
   "cell_type": "code",
   "execution_count": 62,
   "metadata": {},
   "outputs": [
    {
     "data": {
      "text/plain": [
       "False"
      ]
     },
     "execution_count": 62,
     "metadata": {},
     "output_type": "execute_result"
    }
   ],
   "source": [
    "stesso_seme = (semiMano[0] == semiMano[1] == semiMano[2] == semiMano[3] == semiMano[4])\n",
    "stesso_seme"
   ]
  },
  {
   "cell_type": "markdown",
   "metadata": {},
   "source": [
    "Ora abbiamo tutte le informazioni per poter determinare la mano del giocatore. Useremo una serie di istruzioni condizionali annidate"
   ]
  },
  {
   "cell_type": "markdown",
   "metadata": {},
   "source": [
    "*  scala reale: consecutivi e stesso seme\n",
    "*  poker: massimo vale 4\n",
    "*  full:  massimo vale 3 e minimo vale 2\n",
    "*  colore: stesso seme\n",
    "*  scala: consecutivi\n",
    "*  tris: massimo vale 3\n",
    "*  doppia coppia: massimo vale 2 e si verifica 2 volte in `gruppi`\n",
    "*  coppia: massimo vale 2"
   ]
  },
  {
   "cell_type": "code",
   "execution_count": 63,
   "metadata": {},
   "outputs": [
    {
     "data": {
      "text/plain": [
       "'COPPIA!'"
      ]
     },
     "execution_count": 63,
     "metadata": {},
     "output_type": "execute_result"
    }
   ],
   "source": [
    "if consecutivi and stesso_seme: \n",
    "    risultato = 'SCALA REALE!'\n",
    "elif massimo == 4: #Poker: 4 carte con lo stesso valore\n",
    "    risultato = 'POKER!'\n",
    "\n",
    "elif massimo == 3 and minimo == 2: #Full: 3 e 2 gruppi di valori. \n",
    "                            #NB basta questa condizione perchè l'unica altra combinazione di carte affichè ci fossero solo 2\n",
    "                            #gruppi di valori è poker (4,1) è esclusa nell'istruzione precedente\n",
    "    risultato = 'FULL!'\n",
    "elif stesso_seme: #Colore: basta avere carte con lo stesso seme\n",
    "    risultato = 'COLORE!'\n",
    "\n",
    "elif consecutivi: #Scala: basta considerare se i valori sono tutti consecutivi\n",
    "    risultato = 'SCALA!'\n",
    "\n",
    "elif massimo == 3: #Tris: dopo aver escluso il full, se c'è un gruppo da 3 carte con lo stesso valore sarà per forza tris\n",
    "    risultato = 'TRIS!'\n",
    "\n",
    "elif massimo == 2: #DoppiaCoppia: anche in questo caso, basta assicurarsi che non si siano più di tre gruppi di valori uguali\n",
    "    quanti = 0\n",
    "    for conta in gruppi:\n",
    "        if conta == 2:\n",
    "            quanti += 1\n",
    "    if quanti == 2:   \n",
    "        risultato = 'DOPPIA COPPIA!'\n",
    "    else:\n",
    "        risultato = 'COPPIA!'\n",
    "else:\n",
    "    risultato = 'carta singola'\n",
    "    \n",
    "risultato"
   ]
  },
  {
   "cell_type": "code",
   "execution_count": null,
   "metadata": {
    "collapsed": true
   },
   "outputs": [],
   "source": []
  }
 ],
 "metadata": {
  "kernelspec": {
   "display_name": "Python 3",
   "language": "python",
   "name": "python3"
  },
  "language_info": {
   "codemirror_mode": {
    "name": "ipython",
    "version": 3
   },
   "file_extension": ".py",
   "mimetype": "text/x-python",
   "name": "python",
   "nbconvert_exporter": "python",
   "pygments_lexer": "ipython3",
   "version": "3.7.2"
  }
 },
 "nbformat": 4,
 "nbformat_minor": 2
}
