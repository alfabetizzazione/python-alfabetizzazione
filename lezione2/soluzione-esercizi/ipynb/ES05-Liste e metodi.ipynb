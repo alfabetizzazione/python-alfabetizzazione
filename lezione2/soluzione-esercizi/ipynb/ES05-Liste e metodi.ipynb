{
 "cells": [
  {
   "cell_type": "markdown",
   "metadata": {},
   "source": [
    "### ESERCIZIO 5 - Liste e metodi\n",
    "\n",
    "5.1) Creare una lista contentente i valori pari tra `1` e `10` chiamata `evens` ed una lista contenente i valori dispari tra `1` e `10` chiamata `odds`.\n",
    "\n",
    "5.2) Aggiungere il valore `11` in coda alla lista `odds`.\n",
    "\n",
    "5.3) Aggiungere il contenuto di `odds` a `evens`.\n",
    "\n",
    "5.4) Calcolare la somma dei valori contenuti in `odds`.\n",
    "\n",
    "5.5) Eliminare il primo elemento della lista `evens`.\n",
    "\n",
    "5.6) Eliminare `7` dalla lista `odds`.\n",
    "\n",
    "5.7) Creare una lista contenente i caratteri della frase `\"Ciao mamma guarda come mi diverto\"`.\n",
    "\n",
    "5.8) Scrivere una funzione che accetta una lista di caratteri e ne elimina i primi `4`.  Applicare questa funzione alla lista creata al punto 5.7.\n",
    "\n",
    "5.9) Scrivere una funzione che accetta una lista di stringhe e ne produce una copia senza le quelle con `a` come carattere iniziale."
   ]
  },
  {
   "cell_type": "code",
   "execution_count": 1,
   "metadata": {},
   "outputs": [],
   "source": [
    "evens = [2, 4, 6, 8, 10]\n",
    "odds = [1, 3, 5, 7, 9]"
   ]
  },
  {
   "cell_type": "markdown",
   "metadata": {},
   "source": [
    "5.2) Per aggiungere un valore in coda ad una lista e' possibile utilizzare il metodo `append` che accetta come argomento l'elemento da aggiungere.  Fate attenzione che siccome `append` non e' una funzione ma un metodo la notazione e' diversa (`nomeVariabile.nomeMetodo(argomento)`)."
   ]
  },
  {
   "cell_type": "code",
   "execution_count": 2,
   "metadata": {},
   "outputs": [],
   "source": [
    "odds.append(11)\n",
    "print(odds)"
   ]
  },
  {
   "cell_type": "markdown",
   "metadata": {},
   "source": [
    "5.3) Per aggiungere tutti gli elementi di una lista ad un'altra il metodo da utilizzare e' `extend`.  Utilizzando `append` la lista `odds` verrebbe aggiunta come ultimo elemento delle lista `evens`, ottenendo la lista\n",
    "```python\n",
    "[2, 4, 6, 8, 10, [1, 3, 5, 7, 9, 11]]\n",
    "```\n",
    "che contiene 6 elementi (5 numeri ed una lista)."
   ]
  },
  {
   "cell_type": "code",
   "execution_count": 3,
   "metadata": {},
   "outputs": [],
   "source": [
    "evens.extend(odds)\n",
    "print(evens)"
   ]
  },
  {
   "cell_type": "markdown",
   "metadata": {},
   "source": [
    "5.4) La funzione `sum` somma tutti i valori contenuti in una lista."
   ]
  },
  {
   "cell_type": "code",
   "execution_count": 4,
   "metadata": {},
   "outputs": [],
   "source": [
    "sum(odds)"
   ]
  },
  {
   "cell_type": "markdown",
   "metadata": {},
   "source": [
    "5.5) Il metodo `pop` elimina l'elemento in posizione `i` da una lista.  La posizione viene passata come argomento del metodo."
   ]
  },
  {
   "cell_type": "code",
   "execution_count": 5,
   "metadata": {},
   "outputs": [],
   "source": [
    "evens.pop(0)\n",
    "print(evens)"
   ]
  },
  {
   "cell_type": "markdown",
   "metadata": {},
   "source": [
    "5.6) Il metodo `remove` elimina la prima occorrenza di un elemento da una lista."
   ]
  },
  {
   "cell_type": "code",
   "execution_count": 6,
   "metadata": {},
   "outputs": [
    {
     "name": "stdout",
     "output_type": "stream",
     "text": [
      "[1, 3, 5, 9, 11]\n"
     ]
    }
   ],
   "source": [
    "odds.remove(7)\n",
    "print(odds)"
   ]
  },
  {
   "cell_type": "markdown",
   "metadata": {},
   "source": [
    "5.7) Possiamo creare la lista dei caratteri richiesti iterando sopra la stringa ed aggiungendo di volta in volta il carattere analizzato."
   ]
  },
  {
   "cell_type": "code",
   "execution_count": 7,
   "metadata": {},
   "outputs": [
    {
     "name": "stdout",
     "output_type": "stream",
     "text": [
      "['C', 'i', 'a', 'o', ' ', 'm', 'a', 'm', 'm', 'a', ' ', 'g', 'u', 'a', 'r', 'd', 'a', ' ', 'c', 'o', 'm', 'e', ' ', 'm', 'i', ' ', 'd', 'i', 'v', 'e', 'r', 't', 'o']\n"
     ]
    }
   ],
   "source": [
    "chars = []\n",
    "for c in \"Ciao mamma guarda come mi diverto\":\n",
    "    chars.append(c)\n",
    "print(chars)"
   ]
  },
  {
   "cell_type": "markdown",
   "metadata": {},
   "source": [
    "5.8) La funzione built-in `del` elimina uno slice di una lista."
   ]
  },
  {
   "cell_type": "code",
   "execution_count": 8,
   "metadata": {},
   "outputs": [
    {
     "name": "stdout",
     "output_type": "stream",
     "text": [
      "[' ', 'm', 'a', 'm', 'm', 'a', ' ', 'g', 'u', 'a', 'r', 'd', 'a', ' ', 'c', 'o', 'm', 'e', ' ', 'm', 'i', ' ', 'd', 'i', 'v', 'e', 'r', 't', 'o']\n"
     ]
    }
   ],
   "source": [
    "def removeFirst4(lst):\n",
    "    del lst[0:4]\n",
    "removeFirst4(chars)\n",
    "print(chars)"
   ]
  },
  {
   "cell_type": "markdown",
   "metadata": {},
   "source": [
    "5.9) Per risolvere questo esercizio e' necessario creare una nuova lista nella quale vengono inseriti gli elementi non eliminati.  Ricordatevi che non si deve mai modificare una lista sulla quale si sta iterando (ovvero, non utilizzate il metodo `remove` della lista `lst` mentre state iterando con un ciclo `for` sugli elementi di `lst`)."
   ]
  },
  {
   "cell_type": "code",
   "execution_count": 9,
   "metadata": {},
   "outputs": [
    {
     "name": "stdout",
     "output_type": "stream",
     "text": [
      "['Carlo', 'Marco', 'Blaise']\n"
     ]
    }
   ],
   "source": [
    "list_with_a = [\"Andrea\", \"Carlo\", \"Amedeo\", \"Marco\", \"Blaise\", \"Antonella\"]\n",
    "\n",
    "def removeStringsStartingWithA(lst):\n",
    "    new_lst = []\n",
    "    for elem in lst:\n",
    "        if elem[0] != 'A':\n",
    "            new_lst.append(elem)\n",
    "    return new_lst\n",
    "\n",
    "list_without_a = removeStringsStartingWithA(list_with_a)\n",
    "print(list_without_a)"
   ]
  }
 ],
 "metadata": {
  "kernelspec": {
   "display_name": "Python 3",
   "language": "python",
   "name": "python3"
  },
  "language_info": {
   "codemirror_mode": {
    "name": "ipython",
    "version": 3
   },
   "file_extension": ".py",
   "mimetype": "text/x-python",
   "name": "python",
   "nbconvert_exporter": "python",
   "pygments_lexer": "ipython3",
   "version": "3.6.7"
  }
 },
 "nbformat": 4,
 "nbformat_minor": 2
}
