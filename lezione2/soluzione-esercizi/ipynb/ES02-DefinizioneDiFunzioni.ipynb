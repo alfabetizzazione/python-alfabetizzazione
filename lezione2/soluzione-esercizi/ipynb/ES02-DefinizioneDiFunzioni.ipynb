{
 "cells": [
  {
   "cell_type": "markdown",
   "metadata": {},
   "source": [
    "### ESERCIZIO 2 - Definizione di funzioni\n",
    "\n",
    "2.1) Definire una funzione chiamata `myName` senza parametri di input che ritorna il vostro nome\n",
    "\n",
    "2.2) Definire una funzione chiamata `myMax` che accetta due valori `x` e `y` in input e restituisce il valore massimo tra i due\n",
    "\n",
    "2.3) Definire una funzione chiamata `mySquare` che accetta un valore `x` e ritorna `x` elevato alla seconda\n",
    "\n",
    "2.4) Salvare due valori numerici tra 1 e 10 all'interno di due variabili `x` e `y`.  Utilizzando le funzioni definite in precedenza, verificare quale e' il valore massimo tra `x` al quadrato e `y` al quadrato.\n",
    "\n",
    "2.5) Definire una funzione `myAbs` che accetta un valore intero `x` e ritorna il valore assoluto di `x`.\n",
    "\n",
    "2.6) Definire una funzione `myPrime` che accetta un valore intero `x` e ritorna `True` nel caso `x` sia primo oppure `False` in caso contrario."
   ]
  },
  {
   "cell_type": "markdown",
   "metadata": {},
   "source": [
    "### SOLUZIONE\n",
    "\n",
    "La sintassi per la definizioe di una funzione e' la seguente.\n",
    "```python\n",
    "def nomeFunzione(argomento): # E' possibile fornire piu' argomenti dividendo i nomi con la virgola\n",
    "    # corpo della funzione\n",
    "    argomento = argomento + 10\n",
    "    print(argomento)\n",
    "    return argomento\n",
    "```"
   ]
  },
  {
   "cell_type": "markdown",
   "metadata": {},
   "source": [
    "2.1) Per definire una funzione senza parametri e' sufficiente non inserire nulla tra le parentesi dopo il nume della funzione."
   ]
  },
  {
   "cell_type": "code",
   "execution_count": 1,
   "metadata": {},
   "outputs": [
    {
     "name": "stdout",
     "output_type": "stream",
     "text": [
      "Marco\n"
     ]
    }
   ],
   "source": [
    "def myName():\n",
    "    return \"Marco\"\n",
    "\n",
    "print(myName())"
   ]
  },
  {
   "cell_type": "markdown",
   "metadata": {},
   "source": [
    "2.2 e 2.3) Le funzioni `myMax` e `mySquare` richiedono alcuni parametri (2 e 1 rispettivamente).  Notate che `myMax` contenga due istruzioni di `return` (ma solo una verra' eseguita!) e che `mySquare` ritorna un'espressione (`x**2`) il cui valore verra' calcolato e restituito alla chiamata della funzione."
   ]
  },
  {
   "cell_type": "code",
   "execution_count": 2,
   "metadata": {},
   "outputs": [
    {
     "name": "stdout",
     "output_type": "stream",
     "text": [
      "10\n"
     ]
    }
   ],
   "source": [
    "def myMax(x, y):\n",
    "    if x > y:\n",
    "        return x\n",
    "    else:\n",
    "        return y\n",
    "\n",
    "print(myMax(10, 7))"
   ]
  },
  {
   "cell_type": "code",
   "execution_count": 3,
   "metadata": {},
   "outputs": [
    {
     "name": "stdout",
     "output_type": "stream",
     "text": [
      "9\n"
     ]
    }
   ],
   "source": [
    "def mySquare(x):\n",
    "    return x**2\n",
    "\n",
    "print(mySquare(3))"
   ]
  },
  {
   "cell_type": "markdown",
   "metadata": {},
   "source": [
    "2.4) E' possibile combinare piu' funzioni. Nella cella seguente i due argomenti di `myMax` saranno rispettivamente il valore fornito da `mySquare(x)` (100) ed il valore fornito da `mySquare(y)` (81)."
   ]
  },
  {
   "cell_type": "code",
   "execution_count": 4,
   "metadata": {},
   "outputs": [
    {
     "name": "stdout",
     "output_type": "stream",
     "text": [
      "Il massimo e': 100\n"
     ]
    }
   ],
   "source": [
    "x = 10\n",
    "y = 9\n",
    "\n",
    "print(\"Il massimo e':\", myMax(mySquare(x), mySquare(y)))"
   ]
  },
  {
   "cell_type": "code",
   "execution_count": 5,
   "metadata": {},
   "outputs": [
    {
     "name": "stdout",
     "output_type": "stream",
     "text": [
      "10\n",
      "8\n"
     ]
    }
   ],
   "source": [
    "def myAbs(x):\n",
    "    if x < 0:\n",
    "        return -x\n",
    "    else:\n",
    "        return x\n",
    "\n",
    "print(myAbs(10))\n",
    "print(myAbs(-8))"
   ]
  },
  {
   "cell_type": "markdown",
   "metadata": {},
   "source": [
    "2.6) Il modo piu' semplice per risolvere questo esercizio e' notare che un numero `x` NON e' primo se esiste almeno un intero tra 2 e `x-1` che divide `x`.  In caso contrario il numero e' primo."
   ]
  },
  {
   "cell_type": "code",
   "execution_count": 6,
   "metadata": {},
   "outputs": [
    {
     "name": "stdout",
     "output_type": "stream",
     "text": [
      "True\n",
      "False\n",
      "False\n",
      "True\n"
     ]
    }
   ],
   "source": [
    "def myPrime(x):\n",
    "    for i in range(2, x):\n",
    "        if x % i == 0:\n",
    "            return False\n",
    "    return True\n",
    "\n",
    "print(myPrime(1))\n",
    "print(myPrime(4))\n",
    "print(myPrime(9))\n",
    "print(myPrime(17))"
   ]
  }
 ],
 "metadata": {
  "kernelspec": {
   "display_name": "Python 3",
   "language": "python",
   "name": "python3"
  },
  "language_info": {
   "codemirror_mode": {
    "name": "ipython",
    "version": 3
   },
   "file_extension": ".py",
   "mimetype": "text/x-python",
   "name": "python",
   "nbconvert_exporter": "python",
   "pygments_lexer": "ipython3",
   "version": "3.6.7"
  }
 },
 "nbformat": 4,
 "nbformat_minor": 2
}
