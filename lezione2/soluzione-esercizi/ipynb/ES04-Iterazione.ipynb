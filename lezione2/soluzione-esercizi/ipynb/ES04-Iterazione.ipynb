{
 "cells": [
  {
   "cell_type": "markdown",
   "metadata": {},
   "source": [
    "### ESERCIZIO 4 - Iterazione\n",
    "\n",
    "4.1) Definire una funzione `myFactorial` che accetta un numero intero `value` e restituisce il valore del fattoriale di esso.\n",
    "\n",
    "Il fattoriale di `n` e' definito come la moltiplicazione di tutti i valori tra `1` e `n`."
   ]
  },
  {
   "cell_type": "markdown",
   "metadata": {},
   "source": [
    "### SOLUZIONE\n",
    "\n",
    "E' possibile calcolare il fattoriale di un numero utilizzando un semplice ciclo `for`.\n",
    "Ad ogni iterazione `i` la variabile `f` contiene il valore del fattoriale di `i-1` e viene aggiornata al valore del fattorial di `i` moltiplicando il suo valore attuale per `i`."
   ]
  },
  {
   "cell_type": "code",
   "execution_count": 1,
   "metadata": {},
   "outputs": [],
   "source": [
    "def myFactorial(value):\n",
    "    f = 1\n",
    "    for i in range(1, value + 1):\n",
    "        f = f * i\n",
    "    return f"
   ]
  },
  {
   "cell_type": "code",
   "execution_count": 2,
   "metadata": {},
   "outputs": [
    {
     "name": "stdout",
     "output_type": "stream",
     "text": [
      "1  =>  1\n",
      "2  =>  2\n",
      "3  =>  6\n",
      "4  =>  24\n",
      "5  =>  120\n",
      "6  =>  720\n",
      "7  =>  5040\n",
      "8  =>  40320\n",
      "9  =>  362880\n"
     ]
    }
   ],
   "source": [
    "for i in range(1, 10):\n",
    "    print(i, \" => \", myFactorial(i))"
   ]
  }
 ],
 "metadata": {
  "kernelspec": {
   "display_name": "Python 3",
   "language": "python",
   "name": "python3"
  },
  "language_info": {
   "codemirror_mode": {
    "name": "ipython",
    "version": 3
   },
   "file_extension": ".py",
   "mimetype": "text/x-python",
   "name": "python",
   "nbconvert_exporter": "python",
   "pygments_lexer": "ipython3",
   "version": "3.6.7"
  }
 },
 "nbformat": 4,
 "nbformat_minor": 2
}
