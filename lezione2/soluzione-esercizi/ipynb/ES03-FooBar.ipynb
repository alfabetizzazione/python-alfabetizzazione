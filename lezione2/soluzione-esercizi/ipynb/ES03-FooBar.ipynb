{
 "cells": [
  {
   "cell_type": "markdown",
   "metadata": {},
   "source": [
    "### ESERCIZIO 3 - Foobar\n",
    "\n",
    "Definire una funzione `foobar` che accetta un numero intero e ritorna:\n",
    "\n",
    "- la stringa `foobar` se il numero e' divisibile per 5 e per 3\n",
    "- la stringa `foo` se il numero e' divisibile per 5 ma non per 3\n",
    "- la stringa `bar` se il numero e' divisibile per 3 ma non per 5\n",
    "- il numero stesso se il numero non e' divisibile ne' per 3 ne' per 5"
   ]
  },
  {
   "cell_type": "markdown",
   "metadata": {},
   "source": [
    "### SOLUZIONE"
   ]
  },
  {
   "cell_type": "code",
   "execution_count": 3,
   "metadata": {},
   "outputs": [],
   "source": [
    "def foobar(value):\n",
    "    if value % 5 == 0 and value % 3 == 0:\n",
    "        return \"foobar\"\n",
    "    elif value % 5 == 0 and value % 3 != 0: # notare che la seconda condizione e' inutile\n",
    "        return \"foo\"\n",
    "    elif value % 5 != 0 and value % 3 == 0: # notare che la prima condizione e' inutile\n",
    "        return \"bar\"\n",
    "    else:\n",
    "        return value"
   ]
  },
  {
   "cell_type": "code",
   "execution_count": 4,
   "metadata": {},
   "outputs": [
    {
     "name": "stdout",
     "output_type": "stream",
     "text": [
      "1  =>  1\n",
      "2  =>  2\n",
      "3  =>  bar\n",
      "4  =>  4\n",
      "5  =>  foo\n",
      "6  =>  bar\n",
      "7  =>  7\n",
      "8  =>  8\n",
      "9  =>  bar\n",
      "10  =>  foo\n",
      "11  =>  11\n",
      "12  =>  bar\n",
      "13  =>  13\n",
      "14  =>  14\n",
      "15  =>  foobar\n"
     ]
    }
   ],
   "source": [
    "for number in range(1, 16):\n",
    "    print(number, \" => \", foobar(number))"
   ]
  }
 ],
 "metadata": {
  "kernelspec": {
   "display_name": "Python 3",
   "language": "python",
   "name": "python3"
  },
  "language_info": {
   "codemirror_mode": {
    "name": "ipython",
    "version": 3
   },
   "file_extension": ".py",
   "mimetype": "text/x-python",
   "name": "python",
   "nbconvert_exporter": "python",
   "pygments_lexer": "ipython3",
   "version": "3.6.7"
  }
 },
 "nbformat": 4,
 "nbformat_minor": 2
}
