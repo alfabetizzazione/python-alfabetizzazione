{
 "cells": [
  {
   "cell_type": "markdown",
   "metadata": {},
   "source": [
    "### ESERCIZIO 7 - Lettera di riscatto\n",
    "\n",
    "Scrivere una funzione `ransom` che accetta due stringhe come argomenti: `journal` e `note`.\n",
    "\n",
    "La funzione deve ritornare `True` se e' possibile scrivere la frase contenuta in `note` con le parole contenute in `journal` e `False` in caso contrario.\n",
    "\n",
    "Per esempio\n",
    "```python\n",
    "ransom(\"Cento euro non sono abbastanza per comprare un'auto che soddisfa le mie richieste\", \"Cento euro\")\n",
    "```\n",
    "deve ritornare `True`. Mentre\n",
    "```python\n",
    "ransom(\"tre volte due non è quattro\", \"due volte due è quattro\")\n",
    "```\n",
    "deve ritornare `False` perché nella prima stringa \"due\" compare solo una volta mentre nella seconda due."
   ]
  },
  {
   "cell_type": "markdown",
   "metadata": {},
   "source": [
    "### SOLUZIONE\n",
    "\n",
    "Per prima cosa estraiamo le parole presenti nella stringa `journal` e nella stringa `note` utilizzando il metodo `split` delle stringhe.\n",
    "Dopo aver salvato queste due liste in due variabili possiamo eliminare le parole di `journal` che compaiono in `note`.\n",
    "Dopo aver rimosso tutti gli elementi condivisi, se `note` contiene ancora elementi significa che qualche parola in `note` non e' presente in `journal` e di conseguenza la funzione deve ritornare `False`.  In caso contrario tutte le parole di `note` sono presenti in `journal` e la funzione ritornera' `True` poiche' e' possibile scrivere `note` utilizzando le parole contenute in `journal`."
   ]
  },
  {
   "cell_type": "code",
   "execution_count": 1,
   "metadata": {},
   "outputs": [],
   "source": [
    "def ransom(journal, note):\n",
    "    words_in_journal = journal.split(' ')\n",
    "    words_in_note = note.split(' ')\n",
    "    for word in words_in_journal:\n",
    "        if word in words_in_note:\n",
    "            words_in_note.remove(word)\n",
    "    if len(words_in_note) > 0:\n",
    "        return False\n",
    "    else:\n",
    "        return True        "
   ]
  },
  {
   "cell_type": "code",
   "execution_count": 2,
   "metadata": {},
   "outputs": [
    {
     "data": {
      "text/plain": [
       "True"
      ]
     },
     "execution_count": 2,
     "metadata": {},
     "output_type": "execute_result"
    }
   ],
   "source": [
    "ransom(\"Cento euro non sono abbastanza per comprare un'auto che soddisfa le mie richieste\", \"Cento euro\")"
   ]
  },
  {
   "cell_type": "code",
   "execution_count": 3,
   "metadata": {},
   "outputs": [
    {
     "data": {
      "text/plain": [
       "False"
      ]
     },
     "execution_count": 3,
     "metadata": {},
     "output_type": "execute_result"
    }
   ],
   "source": [
    "ransom(\"tre volte due non è quattro\", \"due volte due è quattro\")"
   ]
  }
 ],
 "metadata": {
  "kernelspec": {
   "display_name": "Python 3",
   "language": "python",
   "name": "python3"
  },
  "language_info": {
   "codemirror_mode": {
    "name": "ipython",
    "version": 3
   },
   "file_extension": ".py",
   "mimetype": "text/x-python",
   "name": "python",
   "nbconvert_exporter": "python",
   "pygments_lexer": "ipython3",
   "version": "3.6.7"
  }
 },
 "nbformat": 4,
 "nbformat_minor": 2
}
