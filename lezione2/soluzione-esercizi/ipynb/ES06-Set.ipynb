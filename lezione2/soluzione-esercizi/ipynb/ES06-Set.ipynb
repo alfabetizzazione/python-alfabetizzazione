{
 "cells": [
  {
   "cell_type": "markdown",
   "metadata": {},
   "source": [
    "### ESERCIZIO 6 - Set\n",
    "\n",
    "6.1) Scrivere una funzione che accetta una lista e ritorna `True` se essa non contiene elementi duplicati o `False` in caso contrario.\n",
    "\n",
    "6.2) Definire due liste di numeri interi `x` e `y` con i seguenti valori\n",
    "```python\n",
    "x = [1, 2, 1, 3, 4, 10, 101, 7, 7]\n",
    "y = [4, 1, 5, 100, 99, 1, 101]\n",
    "```\n",
    "e calcolare gli elementi distinti condivisi tra le due (1, 4 e 101).\n",
    "\n",
    "6.3) Computare gli elementi distinti che sono in `x` e non in `y`"
   ]
  },
  {
   "cell_type": "markdown",
   "metadata": {},
   "source": [
    "### SOLUZIONE\n",
    "\n",
    "6.1) E' possibile risolvere questo esercizio utilizzando un set.  Per prima cosa creiamo un set dalla lista passata come argomento.  Dato che un set non puo' contenere elementi ripetuti, `uniqElems` conterra' gli elementi distinti della lista.  A questo punto possiamo verificare se il numero di elementi nelal lista ed in `uniqElems` e' uguale per verificare la presenza di elementi duplicati."
   ]
  },
  {
   "cell_type": "code",
   "execution_count": 1,
   "metadata": {},
   "outputs": [],
   "source": [
    "def uniqElements(lst):\n",
    "    uniqElems = list(set(lst))\n",
    "    if len(uniqElems) == len(lst):\n",
    "        return True\n",
    "    else:\n",
    "        return False"
   ]
  },
  {
   "cell_type": "code",
   "execution_count": 2,
   "metadata": {},
   "outputs": [
    {
     "data": {
      "text/plain": [
       "False"
      ]
     },
     "execution_count": 2,
     "metadata": {},
     "output_type": "execute_result"
    }
   ],
   "source": [
    "uniqElements(['Duplicato', 'Duplicato', 'Resto'])"
   ]
  },
  {
   "cell_type": "code",
   "execution_count": 3,
   "metadata": {},
   "outputs": [
    {
     "data": {
      "text/plain": [
       "True"
      ]
     },
     "execution_count": 3,
     "metadata": {},
     "output_type": "execute_result"
    }
   ],
   "source": [
    "uniqElements(['Unico', 'Non Duplicato', 'Resto'])"
   ]
  },
  {
   "cell_type": "markdown",
   "metadata": {},
   "source": [
    "6.2) Per prima cosa convertiamo le liste in due set (`setx` e `sety`).  Utilizzando queste due variabili possiamo verificare quali elementi sono presenti in entrambe le liste."
   ]
  },
  {
   "cell_type": "code",
   "execution_count": 4,
   "metadata": {},
   "outputs": [
    {
     "name": "stdout",
     "output_type": "stream",
     "text": [
      "1\n",
      "4\n",
      "101\n"
     ]
    }
   ],
   "source": [
    "x = [1, 2, 1, 3, 4, 10, 101, 7, 7]\n",
    "y = [4, 1, 5, 100, 99, 1, 101]\n",
    "\n",
    "setx = set(x)\n",
    "sety = set(y)\n",
    "\n",
    "for elem in setx:\n",
    "    if elem in sety:\n",
    "        print(elem)"
   ]
  },
  {
   "cell_type": "markdown",
   "metadata": {},
   "source": [
    "6.3) E' possibile calcolare la differenza tra due insiemi utilizzando l'operatore `-`."
   ]
  },
  {
   "cell_type": "code",
   "execution_count": 5,
   "metadata": {},
   "outputs": [
    {
     "name": "stdout",
     "output_type": "stream",
     "text": [
      "10\n",
      "2\n",
      "3\n",
      "7\n"
     ]
    }
   ],
   "source": [
    "for elem in setx - sety:\n",
    "    print(elem)"
   ]
  }
 ],
 "metadata": {
  "kernelspec": {
   "display_name": "Python 3",
   "language": "python",
   "name": "python3"
  },
  "language_info": {
   "codemirror_mode": {
    "name": "ipython",
    "version": 3
   },
   "file_extension": ".py",
   "mimetype": "text/x-python",
   "name": "python",
   "nbconvert_exporter": "python",
   "pygments_lexer": "ipython3",
   "version": "3.6.7"
  }
 },
 "nbformat": 4,
 "nbformat_minor": 2
}
